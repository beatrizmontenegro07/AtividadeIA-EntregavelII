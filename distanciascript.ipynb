{
  "nbformat": 4,
  "nbformat_minor": 0,
  "metadata": {
    "colab": {
      "provenance": [],
      "authorship_tag": "ABX9TyOL2LnZS26QUWYexuilkWPd",
      "include_colab_link": true
    },
    "kernelspec": {
      "name": "python3",
      "display_name": "Python 3"
    },
    "language_info": {
      "name": "python"
    }
  },
  "cells": [
    {
      "cell_type": "markdown",
      "metadata": {
        "id": "view-in-github",
        "colab_type": "text"
      },
      "source": [
        "<a href=\"https://colab.research.google.com/github/beatrizmontenegro07/AtividadeIA-EntregavelII/blob/main/distanciascript.ipynb\" target=\"_parent\"><img src=\"https://colab.research.google.com/assets/colab-badge.svg\" alt=\"Open In Colab\"/></a>"
      ]
    },
    {
      "cell_type": "code",
      "execution_count": 1,
      "metadata": {
        "id": "6HZdjtht0KV5"
      },
      "outputs": [],
      "source": [
        "from openpyxl import Workbook\n",
        "from math import sqrt, pow\n",
        "\n",
        "def distancia(x1, y1, x2, y2):\n",
        "    return round(sqrt(pow(x2 - x1, 2) + pow(y2 - y1, 2)), 2)\n",
        "\n",
        "\n",
        "estados = [[0, 0, 1, 2, 3, 4, 0, 0],\n",
        "           [5, 6, 7, 8, 9, 10, 11, 12],\n",
        "           [13, 14, 15, 16, 17, 18, 19, 20],\n",
        "           [21, 22, 23, 24, 25, 26, 27, 28],\n",
        "           [29, 30, 31, 32, 33, 34, 35, 36]]\n",
        "\n",
        "# cria arquivo excel\n",
        "wb = Workbook()\n",
        "ws = wb.active\n",
        "ws.title = \"Distâncias\"\n",
        "\n",
        "# cria lista de estados que são diferentes de zero\n",
        "valores_estados = []\n",
        "posicoes = {}\n",
        "\n",
        "for i in range(len(estados)):\n",
        "    for j in range(len(estados[i])):\n",
        "        if estados[i][j] != 0:\n",
        "            valores_estados.append(estados[i][j])\n",
        "            posicoes[estados[i][j]] = (i, j) #posição dos valores na matriz original\n",
        "\n",
        "# preenchendo a primeira linha e coluna com os estados\n",
        "for idx, estado in enumerate(valores_estados, start=2):\n",
        "    ws.cell(row=1, column=idx, value=estado)\n",
        "    ws.cell(row=idx, column=1, value=estado)\n",
        "\n",
        "\n",
        "#calculando a distancia entre os estados\n",
        "for estado1 in valores_estados:\n",
        "    i, j = posicoes[estado1]\n",
        "    x1 = i * 0.5\n",
        "    y1 = j * 0.6\n",
        "\n",
        "    for estado2 in valores_estados:\n",
        "        k, l = posicoes[estado2]\n",
        "        x2 = k * 0.5\n",
        "        y2 = l * 0.6\n",
        "\n",
        "        d = distancia(x1, y1, x2, y2)\n",
        "\n",
        "\n",
        "        row_idx = valores_estados.index(estado1) + 2\n",
        "        col_idx = valores_estados.index(estado2) + 2\n",
        "\n",
        "        ws.cell(row=row_idx, column=col_idx, value=d)\n",
        "\n",
        "wb.save(\"distancias.xlsx\")\n"
      ]
    }
  ]
}